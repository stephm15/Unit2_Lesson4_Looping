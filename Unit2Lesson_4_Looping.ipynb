{
  "nbformat": 4,
  "nbformat_minor": 0,
  "metadata": {
    "colab": {
      "name": "Unit2Lesson 4 - Looping",
      "provenance": [],
      "authorship_tag": "ABX9TyMrjQNzMPgS5JK4sNM9hwLv",
      "include_colab_link": true
    },
    "kernelspec": {
      "name": "python3",
      "display_name": "Python 3"
    }
  },
  "cells": [
    {
      "cell_type": "markdown",
      "metadata": {
        "id": "view-in-github",
        "colab_type": "text"
      },
      "source": [
        "<a href=\"https://colab.research.google.com/github/stephm15/Unit2_Lesson4_Looping/blob/main/Unit2Lesson_4_Looping.ipynb\" target=\"_parent\"><img src=\"https://colab.research.google.com/assets/colab-badge.svg\" alt=\"Open In Colab\"/></a>"
      ]
    },
    {
      "cell_type": "code",
      "metadata": {
        "colab": {
          "base_uri": "https://localhost:8080/"
        },
        "id": "es0_Qiz4Xyn0",
        "outputId": "92e6e938-0573-4bc5-a8b7-bc4765e99fa2"
      },
      "source": [
        "Name = \"Stephanie Salarbux\"\r\n",
        "print(Name)\r\n",
        "\r\n",
        "flavors = ['vanilla', 'chocolate', 'pistachio' ,'strawberry', 'coffee']\r\n",
        "\r\n",
        "for a in flavors:\r\n",
        "  print(a)\r\n",
        "\r\n",
        "for a in flavors:\r\n",
        "  print(a.title() + \", is delicious!\")\r\n",
        "\r\n",
        "\r\n",
        "numbers = list(range(2,21,2))\r\n",
        "print(numbers)\r\n",
        "print(sorted(numbers))\r\n",
        "print(numbers[0:3])\r\n",
        "print(numbers [-2:])"
      ],
      "execution_count": 107,
      "outputs": [
        {
          "output_type": "stream",
          "text": [
            "Stephanie Salarbux\n",
            "vanilla\n",
            "chocolate\n",
            "pistachio\n",
            "strawberry\n",
            "coffee\n",
            "Vanilla, is delicious!\n",
            "Chocolate, is delicious!\n",
            "Pistachio, is delicious!\n",
            "Strawberry, is delicious!\n",
            "Coffee, is delicious!\n",
            "[2, 4, 6, 8, 10, 12, 14, 16, 18, 20]\n",
            "[2, 4, 6, 8, 10, 12, 14, 16, 18, 20]\n",
            "[2, 4, 6]\n",
            "[18, 20]\n"
          ],
          "name": "stdout"
        }
      ]
    }
  ]
}